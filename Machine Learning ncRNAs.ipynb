{
 "cells": [
  {
   "cell_type": "markdown",
   "id": "43a08475",
   "metadata": {},
   "source": [
    "## Programming Assignment 1\n",
    "#### Machine Learning (CSCI-4930/5930)"
   ]
  },
  {
   "cell_type": "code",
   "execution_count": 1,
   "id": "b2aca17a",
   "metadata": {},
   "outputs": [],
   "source": [
    "# Import libraries\n",
    "import pandas as pd\n",
    "import numpy\n",
    "import math"
   ]
  },
  {
   "cell_type": "code",
   "execution_count": 2,
   "id": "965be241",
   "metadata": {},
   "outputs": [],
   "source": [
    "# First load the dataset into pandas dataframe\n",
    "training = pd.read_csv('dataset/training.csv',header=None,delimiter=',')\n",
    "validation = pd.read_csv('dataset/validation.csv',header=None,delimiter=',')"
   ]
  },
  {
   "cell_type": "code",
   "execution_count": 3,
   "id": "c5408ec1",
   "metadata": {},
   "outputs": [
    {
     "data": {
      "text/html": [
       "<div>\n",
       "<style scoped>\n",
       "    .dataframe tbody tr th:only-of-type {\n",
       "        vertical-align: middle;\n",
       "    }\n",
       "\n",
       "    .dataframe tbody tr th {\n",
       "        vertical-align: top;\n",
       "    }\n",
       "\n",
       "    .dataframe thead th {\n",
       "        text-align: right;\n",
       "    }\n",
       "</style>\n",
       "<table border=\"1\" class=\"dataframe\">\n",
       "  <thead>\n",
       "    <tr style=\"text-align: right;\">\n",
       "      <th></th>\n",
       "      <th>0</th>\n",
       "      <th>1</th>\n",
       "      <th>2</th>\n",
       "      <th>3</th>\n",
       "      <th>4</th>\n",
       "      <th>5</th>\n",
       "      <th>6</th>\n",
       "      <th>7</th>\n",
       "      <th>8</th>\n",
       "    </tr>\n",
       "  </thead>\n",
       "  <tbody>\n",
       "    <tr>\n",
       "      <th>0</th>\n",
       "      <td>-315</td>\n",
       "      <td>75</td>\n",
       "      <td>0.205128</td>\n",
       "      <td>0.230769</td>\n",
       "      <td>0.307692</td>\n",
       "      <td>0.146667</td>\n",
       "      <td>0.280000</td>\n",
       "      <td>0.240000</td>\n",
       "      <td>0</td>\n",
       "    </tr>\n",
       "    <tr>\n",
       "      <th>1</th>\n",
       "      <td>-243</td>\n",
       "      <td>75</td>\n",
       "      <td>0.213333</td>\n",
       "      <td>0.186667</td>\n",
       "      <td>0.293333</td>\n",
       "      <td>0.400000</td>\n",
       "      <td>0.253333</td>\n",
       "      <td>0.186667</td>\n",
       "      <td>0</td>\n",
       "    </tr>\n",
       "    <tr>\n",
       "      <th>2</th>\n",
       "      <td>-289</td>\n",
       "      <td>77</td>\n",
       "      <td>0.192308</td>\n",
       "      <td>0.230769</td>\n",
       "      <td>0.282051</td>\n",
       "      <td>0.220779</td>\n",
       "      <td>0.220779</td>\n",
       "      <td>0.272727</td>\n",
       "      <td>0</td>\n",
       "    </tr>\n",
       "    <tr>\n",
       "      <th>3</th>\n",
       "      <td>-776</td>\n",
       "      <td>118</td>\n",
       "      <td>0.271186</td>\n",
       "      <td>0.203390</td>\n",
       "      <td>0.271186</td>\n",
       "      <td>0.200000</td>\n",
       "      <td>0.200000</td>\n",
       "      <td>0.291667</td>\n",
       "      <td>1</td>\n",
       "    </tr>\n",
       "    <tr>\n",
       "      <th>4</th>\n",
       "      <td>-388</td>\n",
       "      <td>77</td>\n",
       "      <td>0.226190</td>\n",
       "      <td>0.238095</td>\n",
       "      <td>0.250000</td>\n",
       "      <td>0.272727</td>\n",
       "      <td>0.272727</td>\n",
       "      <td>0.207792</td>\n",
       "      <td>1</td>\n",
       "    </tr>\n",
       "  </tbody>\n",
       "</table>\n",
       "</div>"
      ],
      "text/plain": [
       "     0    1         2         3         4         5         6         7  8\n",
       "0 -315   75  0.205128  0.230769  0.307692  0.146667  0.280000  0.240000  0\n",
       "1 -243   75  0.213333  0.186667  0.293333  0.400000  0.253333  0.186667  0\n",
       "2 -289   77  0.192308  0.230769  0.282051  0.220779  0.220779  0.272727  0\n",
       "3 -776  118  0.271186  0.203390  0.271186  0.200000  0.200000  0.291667  1\n",
       "4 -388   77  0.226190  0.238095  0.250000  0.272727  0.272727  0.207792  1"
      ]
     },
     "execution_count": 3,
     "metadata": {},
     "output_type": "execute_result"
    }
   ],
   "source": [
    "validation.head()"
   ]
  },
  {
   "cell_type": "markdown",
   "id": "e3d286b5",
   "metadata": {},
   "source": [
    "## Task : A\n",
    "Print total number of samples in the validation dataset: \"dataset/validation.csv\""
   ]
  },
  {
   "cell_type": "code",
   "execution_count": 4,
   "id": "9f3220d2",
   "metadata": {},
   "outputs": [
    {
     "name": "stdout",
     "output_type": "stream",
     "text": [
      "60000\n"
     ]
    }
   ],
   "source": [
    "print(len(validation))"
   ]
  },
  {
   "cell_type": "code",
   "execution_count": null,
   "id": "a3a71fe7",
   "metadata": {},
   "outputs": [],
   "source": []
  },
  {
   "cell_type": "markdown",
   "id": "238ab297",
   "metadata": {},
   "source": [
    "## Task : B\n",
    "Print two numbers in the format: [n0, n1], where\n",
    "n0 represents number of class=0 (negative) samples and n1 represents number of class=1 (positive) samples in the validation dataset: \"dataset/validation.csv\"\n"
   ]
  },
  {
   "cell_type": "code",
   "execution_count": 5,
   "id": "e6dabf09",
   "metadata": {},
   "outputs": [
    {
     "name": "stdout",
     "output_type": "stream",
     "text": [
      "[40060, 19940]\n"
     ]
    }
   ],
   "source": [
    "n0 = validation[8].value_counts()[0]\n",
    "n1 = validation[8].value_counts()[1]\n",
    "print([n0,n1])"
   ]
  },
  {
   "cell_type": "code",
   "execution_count": null,
   "id": "c860624a",
   "metadata": {},
   "outputs": [],
   "source": []
  },
  {
   "cell_type": "markdown",
   "id": "27e9d539",
   "metadata": {},
   "source": [
    "## Task : C\n",
    "Print standard deviation of the second feature: \"The length of shorter sequence\" of the validation dataset: \"dataset/validation.csv\""
   ]
  },
  {
   "cell_type": "code",
   "execution_count": 6,
   "id": "aea36c91",
   "metadata": {},
   "outputs": [
    {
     "name": "stdout",
     "output_type": "stream",
     "text": [
      "21.278652371559346\n"
     ]
    }
   ],
   "source": [
    "print(validation[1].std())"
   ]
  },
  {
   "cell_type": "code",
   "execution_count": null,
   "id": "8d0876ea",
   "metadata": {},
   "outputs": [],
   "source": []
  },
  {
   "cell_type": "markdown",
   "id": "25100733",
   "metadata": {},
   "source": [
    "## Task : D\n",
    "Print median (i.e., 50% percentile) of the seventh feature: \"'U' frequencies of sequence 2\" of the validation dataset: \"dataset/validation.csv\""
   ]
  },
  {
   "cell_type": "code",
   "execution_count": 7,
   "id": "6f148e0a",
   "metadata": {},
   "outputs": [
    {
     "name": "stdout",
     "output_type": "stream",
     "text": [
      "Median of seventh Feature :  0.2203389999999999\n"
     ]
    }
   ],
   "source": [
    "print(\"Median of seventh Feature : \",validation[6].median())"
   ]
  },
  {
   "cell_type": "markdown",
   "id": "b3ca953f",
   "metadata": {},
   "source": [
    "## Task : E\n",
    "Complete the function \"confusion_matrix\" partially defined that takes two arrays of target variable \"y\": y_actual and y_pred denoting ground truth class labels and predicted class labels for the N samples when N is the length of both the arrays. The function should return a list of 4 metrics: TN, FP, FN, TP (in this order)."
   ]
  },
  {
   "cell_type": "code",
   "execution_count": 8,
   "id": "fe603a00",
   "metadata": {},
   "outputs": [],
   "source": [
    "def confusion_matrix(y_actual, y_pred):\n",
    "    # the function takes two arrays of target variable \"y\": y_actual and y_pred\n",
    "    #    denoting ground truth class labels and predicted class labels for the N samples\n",
    "    #    when N is the length of both the arrays.\n",
    "    # The function should return a list of 4 metrics: TN, FP, FN, TP (in this order).\n",
    "        \n",
    "    assert(len(y_actual)==len(y_pred))\n",
    "    \n",
    "    TP = 0\n",
    "    FP = 0\n",
    "    TN = 0\n",
    "    FN = 0\n",
    "\n",
    "    #@TODO\n",
    "    for i in range(len(y_actual)):\n",
    "        if y_actual[i] == 0:\n",
    "            if y_actual[i]==y_pred[i]:\n",
    "                TN =TN+1\n",
    "            else:\n",
    "                FP = FP+1             \n",
    "        elif y_actual[i] == 1:\n",
    "            if y_actual[i]==y_pred[i]:\n",
    "                TP = TP+1\n",
    "            else:\n",
    "                FN = FN+1\n",
    "    \n",
    "\n",
    "    return [TN,FP, FN, TP]"
   ]
  },
  {
   "cell_type": "code",
   "execution_count": 9,
   "id": "68881de0",
   "metadata": {},
   "outputs": [
    {
     "name": "stdout",
     "output_type": "stream",
     "text": [
      "[1, 0, 1, 2]\n"
     ]
    }
   ],
   "source": [
    "print(confusion_matrix([1, 0, 1, 1], [0, 0, 1, 1])) #Expected to print: [1, 0, 1, 2]"
   ]
  },
  {
   "cell_type": "markdown",
   "id": "09c4a133",
   "metadata": {},
   "source": [
    "## Task : F\n",
    "You need to complete the accuracy function partially defined in the file that takes a confusion matrix, i.e. the list of the four metrics: [TN, FP, FN, TP], in this order, and return accuracy. In case of Division by Zero error, return -1."
   ]
  },
  {
   "cell_type": "code",
   "execution_count": 10,
   "id": "1524c6bb",
   "metadata": {},
   "outputs": [],
   "source": [
    "def accuracy(conf_mat):\n",
    "    # Given a confusion matrix, i.e. the list of four metrics: [TN,FP, FN, TP], in this order\n",
    "    # return accuracy\n",
    "    [TN, FP, FN, TP] = conf_mat\n",
    "    \n",
    "    acc_value = 0\n",
    "    \n",
    "    #@TODO\n",
    "    if (TP+TN+FP+FN)!=0:\n",
    "        acc_value = (TP+TN)/(TP+TN+FP+FN)\n",
    "    else:\n",
    "        acc_value = -1\n",
    "\n",
    "    \n",
    "    return acc_value"
   ]
  },
  {
   "cell_type": "code",
   "execution_count": 11,
   "id": "610b9b52",
   "metadata": {},
   "outputs": [
    {
     "name": "stdout",
     "output_type": "stream",
     "text": [
      "0.75\n"
     ]
    }
   ],
   "source": [
    "conf_mat = confusion_matrix([1, 0, 1, 1], [0, 0, 1, 1])  #Expected to print 0.75\n",
    "print(accuracy(conf_mat))"
   ]
  },
  {
   "cell_type": "markdown",
   "id": "b2aa78b6",
   "metadata": {},
   "source": [
    "## Task : G\n",
    "You need to complete the precision function partially defined in the file that takes a confusion matrix, i.e. the list of the four metrics: [TN, FP, FN, TP], in this order, and return precision. It is also known as Positive Predictive Value (PPV). In case of Division by Zero error, return -1."
   ]
  },
  {
   "cell_type": "code",
   "execution_count": 12,
   "id": "c6eb55f6",
   "metadata": {},
   "outputs": [],
   "source": [
    "def precision(conf_mat):\n",
    "    # Given a confusion matrix, i.e. the list of four metrics: [TN,FP, FN, TP], in this order\n",
    "    # return precision. It is also known as Positive Predictive Value (PPV)\n",
    "    [TN, FP, FN, TP] = conf_mat\n",
    "    prec_value = 0\n",
    "    \n",
    "    \n",
    "    #@TODO\n",
    "    if (TP+FP)!=0:\n",
    "        prec_value = TP/(TP+FP)\n",
    "    else:\n",
    "        prec_value = -1\n",
    "    \n",
    "    return prec_value"
   ]
  },
  {
   "cell_type": "code",
   "execution_count": 13,
   "id": "34c02590",
   "metadata": {},
   "outputs": [
    {
     "name": "stdout",
     "output_type": "stream",
     "text": [
      "1.0\n"
     ]
    }
   ],
   "source": [
    "conf_mat = confusion_matrix([1, 0, 1, 1], [0, 0, 1, 1])  #Expected to print 1.0\n",
    "print(precision(conf_mat))"
   ]
  },
  {
   "cell_type": "markdown",
   "id": "e90ba6fe",
   "metadata": {},
   "source": [
    "## Task : H\n",
    "You need to complete the recall function partially defined in the file that takes a confusion matrix, i.e. the list of the four metrics: [TN, FP, FN, TP], in this order, and return recall. It is also known as Sensitivity, or True Positive Rate (TPR). In case of Division by Zero error, return -1."
   ]
  },
  {
   "cell_type": "code",
   "execution_count": 14,
   "id": "501cd309",
   "metadata": {},
   "outputs": [],
   "source": [
    "def recall(conf_mat):\n",
    "    # Given a confusion matrix, i.e. the list of four metrics: [TN,FP, FN, TP], in this order\n",
    "    # return recall. It is also known as Sensitivity, or True Positive Rate (TPR)\n",
    "    [TN, FP, FN, TP] = conf_mat\n",
    "    rec_value = 0\n",
    "    \n",
    "    #@TODO\n",
    "    if (TP+FN)!=0:\n",
    "        rec_value = TP/(TP+FN)\n",
    "    else:\n",
    "        rec_value = -1\n",
    "    \n",
    "    return rec_value"
   ]
  },
  {
   "cell_type": "code",
   "execution_count": 15,
   "id": "b29ef9b8",
   "metadata": {},
   "outputs": [
    {
     "name": "stdout",
     "output_type": "stream",
     "text": [
      "0.6666666666666666\n"
     ]
    }
   ],
   "source": [
    "conf_mat = confusion_matrix([1, 0, 1, 1], [0, 0, 1, 1])  #Expected to print 0.6666666666\n",
    "print(recall(conf_mat))"
   ]
  },
  {
   "cell_type": "markdown",
   "id": "91f6c9a3",
   "metadata": {},
   "source": [
    "## Task : I\n",
    "You need to complete the F1 function partially defined in the file that takes a confusion matrix, i.e. the list of the four metrics: [TN, FP, FN, TP], in this order, and return F1. It is the harmonic mean of precision and recall. In case of Division by Zero error, return -1."
   ]
  },
  {
   "cell_type": "code",
   "execution_count": 16,
   "id": "cab4cd5e",
   "metadata": {},
   "outputs": [],
   "source": [
    "def F1(conf_mat):\n",
    "    # Given a confusion matrix, i.e. the list of four metrics: [TN,FP, FN, TP], in this order\n",
    "    # return F1 score. It is the harmonic mean of precision and recall\n",
    "    [TN, FP, FN, TP] = conf_mat\n",
    "    f1_value = 0\n",
    "    \n",
    "    #@TODO\n",
    "    precision1 = precision([TN, FP, FN, TP])\n",
    "    recall1 = recall([TN, FP, FN, TP])\n",
    "    if (precision1+recall1)!=0:\n",
    "        f1_value = 2*((precision1*recall1)/(precision1+recall1))\n",
    "    else:\n",
    "        f1_value = -1\n",
    "    \n",
    "    \n",
    "    return f1_value"
   ]
  },
  {
   "cell_type": "code",
   "execution_count": 17,
   "id": "fcc93aab",
   "metadata": {},
   "outputs": [
    {
     "name": "stdout",
     "output_type": "stream",
     "text": [
      "0.8\n"
     ]
    }
   ],
   "source": [
    "conf_mat = confusion_matrix([1, 0, 1, 1], [0, 0, 1, 1]) #Expected to print 0.8\n",
    "print(F1(conf_mat))"
   ]
  },
  {
   "cell_type": "markdown",
   "id": "2128d772",
   "metadata": {},
   "source": [
    "## Task : J\n",
    "You need to complete the MCC function defined in the file that takes a confusion matrix, i.e. the list of the four metrics: [TN, FP, FN, TP], in this order, and return Matthews Correlation Coefficient (MCC). In case of Division by Zero error, return -1."
   ]
  },
  {
   "cell_type": "code",
   "execution_count": 18,
   "id": "01ca3913",
   "metadata": {},
   "outputs": [],
   "source": [
    "def MCC(conf_mat):\n",
    "    # Given a confusion matrix, i.e. the list of four metrics: [TN,FP, FN, TP], in this order\n",
    "    # return Matthews correlation coefficient (MCC)\n",
    "    [TN, FP, FN, TP] = conf_mat\n",
    "    mcc_value = 0\n",
    "    \n",
    "    #@TODO\n",
    "    numerator = (TP*TN) - (FP*FN)\n",
    "    denominator = math.sqrt((TP+FP) * (TP+FN) * (TN+FP) * (TN+FN))    \n",
    "    if denominator!=0:\n",
    "        mcc_value = numerator/denominator\n",
    "    else:\n",
    "        mcc_value = -1\n",
    "        \n",
    "  \n",
    "    return mcc_value"
   ]
  },
  {
   "cell_type": "code",
   "execution_count": 19,
   "id": "6b8284c2",
   "metadata": {},
   "outputs": [
    {
     "name": "stdout",
     "output_type": "stream",
     "text": [
      "0.5773502691896258\n"
     ]
    }
   ],
   "source": [
    "conf_mat = confusion_matrix([1, 0, 1, 1], [0, 0, 1, 1]) #Expected to print 0.5773502691896258\n",
    "print(MCC(conf_mat))"
   ]
  },
  {
   "cell_type": "markdown",
   "id": "be81ef54",
   "metadata": {},
   "source": [
    "## Task : K\n",
    "You need to complete the FDR function defined in the file that takes a confusion matrix, i.e. the list of the four metrics: [TN, FP, FN, TP], in this order, and return False Discovery Rate (FDR). In case of Division by Zero error, return -1"
   ]
  },
  {
   "cell_type": "code",
   "execution_count": 20,
   "id": "15bf9850",
   "metadata": {},
   "outputs": [],
   "source": [
    "def FDR(conf_mat):\n",
    "    # Given a confusion matrix, i.e. the list of four metrics: [TN,FP, FN, TP], in this order\n",
    "    # return False Discovery Rate (FDR)\n",
    "    [TN, FP, FN, TP] = conf_mat\n",
    "    fdr_value = 0\n",
    "    \n",
    "    #@TODO\n",
    "    precision1 = precision([TN, FP, FN, TP])\n",
    "    fdr_value = 1-precision1\n",
    "    \n",
    "    return fdr_value"
   ]
  },
  {
   "cell_type": "code",
   "execution_count": 21,
   "id": "dffbe6d1",
   "metadata": {},
   "outputs": [
    {
     "name": "stdout",
     "output_type": "stream",
     "text": [
      "0.0\n"
     ]
    }
   ],
   "source": [
    "conf_mat = confusion_matrix([1, 0, 1, 1], [0, 0, 1, 1]) #Expected to print 0.0\n",
    "print(FDR(conf_mat))"
   ]
  },
  {
   "cell_type": "markdown",
   "id": "9614d2f8",
   "metadata": {},
   "source": [
    "## Task : L\n",
    "Print as a dataframe containing:\n",
    " {model_name,acc,prec,rec,f1,mcc,FDR} for each of the N models (listed in models/*) after predicting the target variables of the validation data: \"dataset/validation.csv\"\n"
   ]
  },
  {
   "cell_type": "code",
   "execution_count": 22,
   "id": "85e17a26",
   "metadata": {},
   "outputs": [
    {
     "name": "stderr",
     "output_type": "stream",
     "text": [
      "100%|████████████████████████████████████████████████████████████████████████████████████| 6/6 [01:56<00:00, 19.46s/it]\n"
     ]
    }
   ],
   "source": [
    "#Print as a dataframe containing:\n",
    "# {model_name,acc,prec,rec,f1,mcc,FDR} for each of the N models (listed in model_files) predicting the target variables\n",
    "#  of the validation data.\n",
    "import pickle\n",
    "import numpy as np\n",
    "import pandas as pd\n",
    "import sys\n",
    "import os\n",
    "from tqdm import tqdm\n",
    "from sklearn.linear_model import LogisticRegression\n",
    "from sklearn.neural_network import MLPClassifier\n",
    "from sklearn import tree\n",
    "from sklearn.svm import SVC\n",
    "from sklearn.neighbors import KNeighborsClassifier\n",
    "result = pd.DataFrame(columns=['model_name','Accuracy','Precision','Recall','F1','MCC','FDR'])\n",
    "\n",
    "model_files=[\"models/Model_1.pkl\",\"models/Model_2.pkl\",\"models/Model_3.pkl\",\\\n",
    "                            \"models/Model_4.pkl\",\"models/Model_5.pkl\",\"models/Model_6.pkl\"]\n",
    "\n",
    "\n",
    "for file_name in tqdm(model_files):\n",
    "    in_file = open(file_name,'rb')\n",
    "    model = pickle.load(in_file)\n",
    "    in_file.close()\n",
    "\n",
    "    #Do the prediction by calling the \"predict\" member function of the model object on the\n",
    "    # validation data with the 8 features\n",
    "    X_test = validation.iloc[:,:-1]\n",
    "    y_test = validation.iloc[:,-1]\n",
    "    y_pred = model.predict(X_test)\n",
    "    \n",
    "    \n",
    "    #@TODO: Complete and revise the following...\n",
    "    conf_mat = []\n",
    "    acc = 0\n",
    "    prec = 0\n",
    "    rec = 0\n",
    "    f1 = 0\n",
    "    mcc = 0\n",
    "    fdr = 0\n",
    "    \n",
    "    conf_mat = confusion_matrix(y_test, y_pred)\n",
    "    acc = accuracy(conf_mat)\n",
    "    prec = precision(conf_mat)\n",
    "    rec = recall(conf_mat)\n",
    "    f1 = F1(conf_mat)\n",
    "    mcc = MCC(conf_mat)\n",
    "    fdr = FDR(conf_mat)\n",
    "    \n",
    "    \n",
    "    result = result.append(pd.Series([file_name,acc,prec,rec,f1,mcc,fdr],index=result.columns),ignore_index=True)\n"
   ]
  },
  {
   "cell_type": "code",
   "execution_count": 23,
   "id": "eab79ef9",
   "metadata": {},
   "outputs": [
    {
     "name": "stdout",
     "output_type": "stream",
     "text": [
      "           model_name  Accuracy  Precision   Recall        F1       MCC  \\\n",
      "0  models/Model_1.pkl  0.337583   0.334082  0.99995  0.500835  0.050929   \n",
      "1  models/Model_2.pkl  0.334083   0.332910  0.99995  0.499518  0.028982   \n",
      "2  models/Model_3.pkl  0.667667  -1.000000  0.00000  0.000000 -1.000000   \n",
      "3  models/Model_4.pkl  0.390483   0.352497  0.99659  0.520789  0.168805   \n",
      "4  models/Model_5.pkl  0.333583   0.332744  0.99995  0.499330  0.024302   \n",
      "5  models/Model_6.pkl  0.337500   0.334054  0.99995  0.500804  0.050516   \n",
      "\n",
      "        FDR  \n",
      "0  0.665918  \n",
      "1  0.667090  \n",
      "2  2.000000  \n",
      "3  0.647503  \n",
      "4  0.667256  \n",
      "5  0.665946  \n"
     ]
    }
   ],
   "source": [
    "print(result)"
   ]
  },
  {
   "cell_type": "markdown",
   "id": "1388167d",
   "metadata": {},
   "source": [
    "## Task : M\n",
    "Print the model name with path which is performing superior among the 6 pretrained models in terms of accuracy, given the performance result dataframe from “L”"
   ]
  },
  {
   "cell_type": "code",
   "execution_count": 24,
   "id": "1552ca2d",
   "metadata": {},
   "outputs": [
    {
     "data": {
      "text/plain": [
       "'models/Model_3.pkl'"
      ]
     },
     "execution_count": 24,
     "metadata": {},
     "output_type": "execute_result"
    }
   ],
   "source": [
    "result[result['Accuracy'] == result['Accuracy'].max()]['model_name'].to_string(index=False)"
   ]
  },
  {
   "cell_type": "markdown",
   "id": "fa229f32",
   "metadata": {},
   "source": [
    "## Task : N\n",
    "Print the model name with path which is performing the worst among the 6 pretrained models in terms of recall, given the performance result dataframe from “L”"
   ]
  },
  {
   "cell_type": "code",
   "execution_count": 25,
   "id": "e940ab1c",
   "metadata": {},
   "outputs": [
    {
     "data": {
      "text/plain": [
       "'models/Model_3.pkl'"
      ]
     },
     "execution_count": 25,
     "metadata": {},
     "output_type": "execute_result"
    }
   ],
   "source": [
    "result[result['Recall'] == result['Recall'].min()]['model_name'].to_string(index=False)"
   ]
  },
  {
   "cell_type": "markdown",
   "id": "e1a6aac4",
   "metadata": {},
   "source": [
    "## Task : O\n",
    "Scale all the features of the validation set using the formula, z = (x-m)/s,\n",
    "    \n",
    "    where m = mean of a feature in the training set: \"dataset/training.csv\"\n",
    "    \n",
    "    s = standard deviation of the feature in the training set: \"dataset/training.csv\"\n",
    "    \n",
    "    #  DO NOT SCALE the target feature.\n",
    "    \n",
    "    # At the end, return a tuple (X, y), with X being a numpy array of shape (N,8) and y is an N dim array and \n",
    "\n",
    "N is the total number of samples in the validation set: \"dataset/validation.csv\".\n",
    "\n",
    "Store the scaled dataset in a variable (preferably a dataframe) named “X_validation_scaled”.\n"
   ]
  },
  {
   "cell_type": "code",
   "execution_count": 26,
   "id": "0aa491fc",
   "metadata": {},
   "outputs": [
    {
     "name": "stdout",
     "output_type": "stream",
     "text": [
      "<class 'pandas.core.frame.DataFrame'>\n",
      "RangeIndex: 60000 entries, 0 to 59999\n",
      "Data columns (total 9 columns):\n",
      " #   Column  Non-Null Count  Dtype  \n",
      "---  ------  --------------  -----  \n",
      " 0   0       60000 non-null  float64\n",
      " 1   1       60000 non-null  float64\n",
      " 2   2       60000 non-null  float64\n",
      " 3   3       60000 non-null  float64\n",
      " 4   4       60000 non-null  float64\n",
      " 5   5       60000 non-null  float64\n",
      " 6   6       60000 non-null  float64\n",
      " 7   7       60000 non-null  float64\n",
      " 8   8       60000 non-null  int64  \n",
      "dtypes: float64(8), int64(1)\n",
      "memory usage: 4.1 MB\n"
     ]
    },
    {
     "data": {
      "text/html": [
       "<div>\n",
       "<style scoped>\n",
       "    .dataframe tbody tr th:only-of-type {\n",
       "        vertical-align: middle;\n",
       "    }\n",
       "\n",
       "    .dataframe tbody tr th {\n",
       "        vertical-align: top;\n",
       "    }\n",
       "\n",
       "    .dataframe thead th {\n",
       "        text-align: right;\n",
       "    }\n",
       "</style>\n",
       "<table border=\"1\" class=\"dataframe\">\n",
       "  <thead>\n",
       "    <tr style=\"text-align: right;\">\n",
       "      <th></th>\n",
       "      <th>0</th>\n",
       "      <th>1</th>\n",
       "      <th>2</th>\n",
       "      <th>3</th>\n",
       "      <th>4</th>\n",
       "      <th>5</th>\n",
       "      <th>6</th>\n",
       "      <th>7</th>\n",
       "      <th>8</th>\n",
       "    </tr>\n",
       "  </thead>\n",
       "  <tbody>\n",
       "    <tr>\n",
       "      <th>0</th>\n",
       "      <td>0.775328</td>\n",
       "      <td>-1.002997</td>\n",
       "      <td>-0.325953</td>\n",
       "      <td>0.167255</td>\n",
       "      <td>1.069653</td>\n",
       "      <td>-1.676320</td>\n",
       "      <td>1.387452</td>\n",
       "      <td>-0.658364</td>\n",
       "      <td>0</td>\n",
       "    </tr>\n",
       "    <tr>\n",
       "      <th>1</th>\n",
       "      <td>1.155149</td>\n",
       "      <td>-1.002997</td>\n",
       "      <td>-0.163911</td>\n",
       "      <td>-0.761209</td>\n",
       "      <td>0.723327</td>\n",
       "      <td>3.906838</td>\n",
       "      <td>0.758204</td>\n",
       "      <td>-2.059975</td>\n",
       "      <td>0</td>\n",
       "    </tr>\n",
       "    <tr>\n",
       "      <th>2</th>\n",
       "      <td>0.912485</td>\n",
       "      <td>-0.910311</td>\n",
       "      <td>-0.579139</td>\n",
       "      <td>0.167255</td>\n",
       "      <td>0.451215</td>\n",
       "      <td>-0.042980</td>\n",
       "      <td>-0.009957</td>\n",
       "      <td>0.201713</td>\n",
       "      <td>0</td>\n",
       "    </tr>\n",
       "    <tr>\n",
       "      <th>3</th>\n",
       "      <td>-1.656587</td>\n",
       "      <td>0.989744</td>\n",
       "      <td>0.978644</td>\n",
       "      <td>-0.409145</td>\n",
       "      <td>0.189161</td>\n",
       "      <td>-0.500924</td>\n",
       "      <td>-0.500269</td>\n",
       "      <td>0.699464</td>\n",
       "      <td>1</td>\n",
       "    </tr>\n",
       "    <tr>\n",
       "      <th>4</th>\n",
       "      <td>0.390230</td>\n",
       "      <td>-0.910311</td>\n",
       "      <td>0.090006</td>\n",
       "      <td>0.321487</td>\n",
       "      <td>-0.321826</td>\n",
       "      <td>1.101893</td>\n",
       "      <td>1.215834</td>\n",
       "      <td>-1.504802</td>\n",
       "      <td>1</td>\n",
       "    </tr>\n",
       "  </tbody>\n",
       "</table>\n",
       "</div>"
      ],
      "text/plain": [
       "          0         1         2         3         4         5         6  \\\n",
       "0  0.775328 -1.002997 -0.325953  0.167255  1.069653 -1.676320  1.387452   \n",
       "1  1.155149 -1.002997 -0.163911 -0.761209  0.723327  3.906838  0.758204   \n",
       "2  0.912485 -0.910311 -0.579139  0.167255  0.451215 -0.042980 -0.009957   \n",
       "3 -1.656587  0.989744  0.978644 -0.409145  0.189161 -0.500924 -0.500269   \n",
       "4  0.390230 -0.910311  0.090006  0.321487 -0.321826  1.101893  1.215834   \n",
       "\n",
       "          7  8  \n",
       "0 -0.658364  0  \n",
       "1 -2.059975  0  \n",
       "2  0.201713  0  \n",
       "3  0.699464  1  \n",
       "4 -1.504802  1  "
      ]
     },
     "execution_count": 26,
     "metadata": {},
     "output_type": "execute_result"
    }
   ],
   "source": [
    "y = validation[8].values\n",
    "\n",
    "#scaling each column apart from the 9th column() \n",
    "column_values = []\n",
    "for i in range(0,8):\n",
    "    mean = training[i].mean() #using training dataset mean as mentioned above\n",
    "    std = training[i].std() #using training dataset std as mentioned above\n",
    "    tmp = [(j-mean)/std  for j in validation[i].values]\n",
    "    column_values.append(tmp)\n",
    "    \n",
    "\n",
    "#reshaping list of lists of shape (8,6000) to list of lists of shape(6000,8)\n",
    "reshaping_list = []\n",
    "for i in range(0,len(column_values[0])): #0-6000\n",
    "    tmp_list = []\n",
    "    for j in range(0,len(column_values)): #0-8\n",
    "        #print(column_values[j][i])\n",
    "        tmp_list.append(column_values[j][i])\n",
    "        \n",
    "    reshaping_list.append(tmp_list)\n",
    "        \n",
    "#converting list of lists to numpy array of numpy arrays\n",
    "X=numpy.array([numpy.array(i) for i in reshaping_list])  \n",
    "\n",
    "\n",
    "tup = (X, y)\n",
    "#print(tup)\n",
    "\n",
    "#converting tuple to dataframe    \n",
    "X_validation_scaled = pd.DataFrame(tup[0], columns=['0','1','2','3','4','5','6','7']) \n",
    "X_validation_scaled['8'] = tup[1]\n",
    "X_validation_scaled.info()\n",
    "X_validation_scaled.head()"
   ]
  },
  {
   "cell_type": "markdown",
   "id": "7c0d7b7c",
   "metadata": {},
   "source": [
    "## Task : P\n",
    "Print as a dataframe containing:\n",
    "  {model_name,acc,prec,rec,f1,mcc,FDR} for each of the N models (listed in model_files) after  predicting the target variables \"y\" (given) for \"X\" (the scaled validation dataset).\n"
   ]
  },
  {
   "cell_type": "code",
   "execution_count": 27,
   "id": "9f08e70f",
   "metadata": {},
   "outputs": [
    {
     "name": "stderr",
     "output_type": "stream",
     "text": [
      "100%|████████████████████████████████████████████████████████████████████████████████████| 6/6 [01:29<00:00, 14.92s/it]\n"
     ]
    }
   ],
   "source": [
    "#@TODO\n",
    "#Print as a dataframe containing:\n",
    "# {model_name,acc,prec,rec,f1,mcc,FDR} for each of the N models (listed in model_files) predicting the target variables\n",
    "#  of the validation data.\n",
    "import pickle\n",
    "import numpy as np\n",
    "import pandas as pd\n",
    "import sys\n",
    "import os\n",
    "from tqdm import tqdm\n",
    "from sklearn.linear_model import LogisticRegression\n",
    "from sklearn.neural_network import MLPClassifier\n",
    "from sklearn import tree\n",
    "from sklearn.svm import SVC\n",
    "from sklearn.neighbors import KNeighborsClassifier\n",
    "result = pd.DataFrame(columns=['model_name','Accuracy','Precision','Recall','F1','MCC','FDR'])\n",
    "\n",
    "\n",
    "model_files=[\"models/Model_1.pkl\",\"models/Model_2.pkl\",\"models/Model_3.pkl\",\\\n",
    "                            \"models/Model_4.pkl\",\"models/Model_5.pkl\",\"models/Model_6.pkl\"]\n",
    "\n",
    "\n",
    "for file_name in tqdm(model_files):\n",
    "    in_file = open(file_name,'rb')\n",
    "    model = pickle.load(in_file)\n",
    "    in_file.close()\n",
    "\n",
    "    X_test = X_validation_scaled.iloc[:,:-1]\n",
    "    y_test = X_validation_scaled.iloc[:,-1]\n",
    "    y_pred = model.predict(X_test)\n",
    "    \n",
    "    \n",
    "    conf_mat = []\n",
    "    acc = 0\n",
    "    prec = 0\n",
    "    rec = 0\n",
    "    f1 = 0\n",
    "    mcc = 0\n",
    "    fdr = 0\n",
    "    \n",
    "    conf_mat = confusion_matrix(y_test, y_pred)\n",
    "    acc = accuracy(conf_mat)\n",
    "    prec = precision(conf_mat)\n",
    "    rec = recall(conf_mat)\n",
    "    f1 = F1(conf_mat)\n",
    "    mcc = MCC(conf_mat)\n",
    "    fdr = FDR(conf_mat)\n",
    "    \n",
    "    \n",
    "    result = result.append(pd.Series([file_name,acc,prec,rec,f1,mcc,fdr],index=result.columns),ignore_index=True)"
   ]
  },
  {
   "cell_type": "code",
   "execution_count": 28,
   "id": "4040548b",
   "metadata": {},
   "outputs": [
    {
     "name": "stdout",
     "output_type": "stream",
     "text": [
      "           model_name  Accuracy  Precision    Recall        F1       MCC  \\\n",
      "0  models/Model_1.pkl  0.951233   0.944276  0.906770  0.925143  0.889404   \n",
      "1  models/Model_2.pkl  0.947700   0.936597  0.903811  0.919912  0.881411   \n",
      "2  models/Model_3.pkl  0.965283   0.946492  0.949198  0.947843  0.921828   \n",
      "3  models/Model_4.pkl  0.966100   0.948907  0.949097  0.949002  0.923614   \n",
      "4  models/Model_5.pkl  0.914133   0.887770  0.848947  0.867925  0.804802   \n",
      "5  models/Model_6.pkl  0.953883   0.936816  0.923521  0.930121  0.895760   \n",
      "\n",
      "        FDR  \n",
      "0  0.055724  \n",
      "1  0.063403  \n",
      "2  0.053508  \n",
      "3  0.051093  \n",
      "4  0.112230  \n",
      "5  0.063184  \n"
     ]
    }
   ],
   "source": [
    "print(result)"
   ]
  },
  {
   "cell_type": "markdown",
   "id": "0ac093d5",
   "metadata": {},
   "source": [
    "## Task : Q\n",
    "Print the model name with path which is performing superior in terms of accuracy, given the performance result dataframe from “P”"
   ]
  },
  {
   "cell_type": "code",
   "execution_count": 29,
   "id": "be1a6362",
   "metadata": {},
   "outputs": [
    {
     "data": {
      "text/plain": [
       "'models/Model_4.pkl'"
      ]
     },
     "execution_count": 29,
     "metadata": {},
     "output_type": "execute_result"
    }
   ],
   "source": [
    "result[result['Accuracy'] == result['Accuracy'].max()]['model_name'].to_string(index=False)"
   ]
  },
  {
   "cell_type": "markdown",
   "id": "5249c432",
   "metadata": {},
   "source": [
    "## Task : R\n",
    "Print the model name with path which is performing the worst in terms of recall, given the performance result dataframe from “P”"
   ]
  },
  {
   "cell_type": "code",
   "execution_count": 30,
   "id": "95773261",
   "metadata": {},
   "outputs": [
    {
     "data": {
      "text/plain": [
       "'models/Model_3.pkl'"
      ]
     },
     "execution_count": 30,
     "metadata": {},
     "output_type": "execute_result"
    }
   ],
   "source": [
    "result[result['Recall'] == result['Recall'].max()]['model_name'].to_string(index=False)"
   ]
  },
  {
   "cell_type": "markdown",
   "id": "0e6efd5f",
   "metadata": {},
   "source": [
    "## Task : S\n",
    "Flip the prediction of Model 1, and then compute and\n",
    " print as a dataframe containing: {acc,prec,rec,f1,mcc,FDR} \n",
    "on the original (i.e., not-scaled) validation dataset: \"dataset/validation.csv\"\n"
   ]
  },
  {
   "cell_type": "code",
   "execution_count": 31,
   "id": "3c776b84",
   "metadata": {},
   "outputs": [],
   "source": [
    "in_file = open(\"models/Model_1.pkl\",'rb')\n",
    "model = pickle.load(in_file)\n",
    "in_file.close()\n",
    "\n",
    "X_test = validation.iloc[:,:-1]\n",
    "y_test = validation.iloc[:,-1]\n",
    "y_pred = model.predict(X_test)\n",
    "\n",
    "#flipping the prediction\n",
    "y_pred_flipped = []\n",
    "for i in y_pred:\n",
    "    if i==0:\n",
    "        y_pred_flipped.append(1)\n",
    "    elif i==1:\n",
    "        y_pred_flipped.append(0)\n",
    "    \n",
    "\n",
    "conf_mat = []\n",
    "acc = 0\n",
    "prec = 0\n",
    "rec = 0\n",
    "f1 = 0\n",
    "mcc = 0\n",
    "fdr = 0\n",
    "\n",
    "conf_mat = confusion_matrix(y_test, y_pred_flipped)\n",
    "acc = accuracy(conf_mat)\n",
    "prec = precision(conf_mat)\n",
    "rec = recall(conf_mat)\n",
    "f1 = F1(conf_mat)\n",
    "mcc = MCC(conf_mat)\n",
    "fdr = FDR(conf_mat)\n",
    "\n",
    "result = pd.DataFrame(columns=['Accuracy','Precision','Recall','F1','MCC','FDR'])\n",
    "result = result.append(pd.Series([acc,prec,rec,f1,mcc,fdr],index=result.columns),ignore_index=True)"
   ]
  },
  {
   "cell_type": "code",
   "execution_count": 32,
   "id": "129b5a43",
   "metadata": {},
   "outputs": [
    {
     "data": {
      "text/html": [
       "<div>\n",
       "<style scoped>\n",
       "    .dataframe tbody tr th:only-of-type {\n",
       "        vertical-align: middle;\n",
       "    }\n",
       "\n",
       "    .dataframe tbody tr th {\n",
       "        vertical-align: top;\n",
       "    }\n",
       "\n",
       "    .dataframe thead th {\n",
       "        text-align: right;\n",
       "    }\n",
       "</style>\n",
       "<table border=\"1\" class=\"dataframe\">\n",
       "  <thead>\n",
       "    <tr style=\"text-align: right;\">\n",
       "      <th></th>\n",
       "      <th>Accuracy</th>\n",
       "      <th>Precision</th>\n",
       "      <th>Recall</th>\n",
       "      <th>F1</th>\n",
       "      <th>MCC</th>\n",
       "      <th>FDR</th>\n",
       "    </tr>\n",
       "  </thead>\n",
       "  <tbody>\n",
       "    <tr>\n",
       "      <th>0</th>\n",
       "      <td>0.662417</td>\n",
       "      <td>0.003155</td>\n",
       "      <td>0.00005</td>\n",
       "      <td>0.000099</td>\n",
       "      <td>-0.050929</td>\n",
       "      <td>0.996845</td>\n",
       "    </tr>\n",
       "  </tbody>\n",
       "</table>\n",
       "</div>"
      ],
      "text/plain": [
       "   Accuracy  Precision   Recall        F1       MCC       FDR\n",
       "0  0.662417   0.003155  0.00005  0.000099 -0.050929  0.996845"
      ]
     },
     "execution_count": 32,
     "metadata": {},
     "output_type": "execute_result"
    }
   ],
   "source": [
    "result"
   ]
  },
  {
   "cell_type": "markdown",
   "id": "7901669d",
   "metadata": {},
   "source": [
    "## Task : T\n",
    "Say, in a confusion matrix, the values of the four metrics are: TP=90, TN=1, FP=4, FN=5. Compute F1_original and MCC_original denoting the F1 and MCC scores.\n",
    "\n",
    "Now, flip the predictions, i.e., positives are now will be predicted as negative, and negatives are going to be predicted as positive. \n",
    "\n",
    "Then, compute F1_flipped and MCC_flipped, denoting corresponding F1 and MCC scores. \n",
    "\n",
    "Print/Return the new {TP, TN, FP, FN, F1_original,MCC_original,F1_flipped, MCC_flipped, COMMENT_string} as a dataframe, where COMMENT_string is a string that will be no longer than 200 characters but is going to be your comment about the F1 and MCC values for the two cases.\n"
   ]
  },
  {
   "cell_type": "code",
   "execution_count": 33,
   "id": "bcd5c9b9",
   "metadata": {},
   "outputs": [],
   "source": [
    "TN=1\n",
    "FP=4\n",
    "FN=5\n",
    "TP=90\n",
    "\n",
    "F1_original = F1([TN,FP, FN, TP])\n",
    "MCC_original = MCC([TN,FP, FN, TP])\n",
    "\n",
    "\n",
    "TN_flipped = 4\n",
    "FP_flipped = 1\n",
    "FN_flipped = 90\n",
    "TP_flipped = 5\n",
    "\n",
    "F1_flipped = F1([TN_flipped,FP_flipped, FN_flipped, TP_flipped])\n",
    "MCC_flipped = MCC([TN_flipped,FP_flipped, FN_flipped, TP_flipped])\n",
    "\n",
    "\n",
    "COMMENT_string =  \"Dummy Comment\"\n",
    "result = pd.DataFrame(columns=['TP', 'TN', 'FP', 'FN', 'F1_original', 'MCC_original', 'F1_flipped', 'MCC_flipped', 'COMMENT_string'])\n",
    "result = result.append(pd.Series([TP, TN, FP, FN, F1_original,MCC_original,F1_flipped, MCC_flipped, COMMENT_string],index=result.columns),ignore_index=True)"
   ]
  },
  {
   "cell_type": "code",
   "execution_count": 34,
   "id": "93157967",
   "metadata": {},
   "outputs": [
    {
     "data": {
      "text/html": [
       "<div>\n",
       "<style scoped>\n",
       "    .dataframe tbody tr th:only-of-type {\n",
       "        vertical-align: middle;\n",
       "    }\n",
       "\n",
       "    .dataframe tbody tr th {\n",
       "        vertical-align: top;\n",
       "    }\n",
       "\n",
       "    .dataframe thead th {\n",
       "        text-align: right;\n",
       "    }\n",
       "</style>\n",
       "<table border=\"1\" class=\"dataframe\">\n",
       "  <thead>\n",
       "    <tr style=\"text-align: right;\">\n",
       "      <th></th>\n",
       "      <th>TP</th>\n",
       "      <th>TN</th>\n",
       "      <th>FP</th>\n",
       "      <th>FN</th>\n",
       "      <th>F1_original</th>\n",
       "      <th>MCC_original</th>\n",
       "      <th>F1_flipped</th>\n",
       "      <th>MCC_flipped</th>\n",
       "      <th>COMMENT_string</th>\n",
       "    </tr>\n",
       "  </thead>\n",
       "  <tbody>\n",
       "    <tr>\n",
       "      <th>0</th>\n",
       "      <td>90</td>\n",
       "      <td>1</td>\n",
       "      <td>4</td>\n",
       "      <td>5</td>\n",
       "      <td>0.952381</td>\n",
       "      <td>0.135242</td>\n",
       "      <td>0.09901</td>\n",
       "      <td>-0.135242</td>\n",
       "      <td>Dummy Comment</td>\n",
       "    </tr>\n",
       "  </tbody>\n",
       "</table>\n",
       "</div>"
      ],
      "text/plain": [
       "   TP TN FP FN  F1_original  MCC_original  F1_flipped  MCC_flipped  \\\n",
       "0  90  1  4  5     0.952381      0.135242     0.09901    -0.135242   \n",
       "\n",
       "  COMMENT_string  \n",
       "0  Dummy Comment  "
      ]
     },
     "execution_count": 34,
     "metadata": {},
     "output_type": "execute_result"
    }
   ],
   "source": [
    "result"
   ]
  },
  {
   "cell_type": "code",
   "execution_count": null,
   "id": "62d084c6",
   "metadata": {},
   "outputs": [],
   "source": []
  },
  {
   "cell_type": "markdown",
   "id": "76ba9996",
   "metadata": {},
   "source": [
    "## For Graduate Students only"
   ]
  },
  {
   "cell_type": "markdown",
   "id": "70a72e6c",
   "metadata": {},
   "source": [
    "## Task: U\n",
    "This task is a follow up of Task P. There is always cost associated with misclassifications. For instance, if a model predicts a ncRNA (class=1) to be non ncRNA (class=0), further verfication will then follow that includes going through the next generation sequencing of those samples costing USD 20 per sample. On the other hand, cost of predicting a non ncRNA to be ncRNA insignificant as most researchers do not care for ncRNAs. They might put it in a piece of paper as a note costing USD 1 per 5 samples. The same cost applies to correct predictions too.\n",
    "\n",
    "What is the cost of predictions with each of the six models?"
   ]
  },
  {
   "cell_type": "code",
   "execution_count": 35,
   "id": "b4027ef3",
   "metadata": {},
   "outputs": [
    {
     "name": "stderr",
     "output_type": "stream",
     "text": [
      " 17%|██████████████                                                                      | 1/6 [00:00<00:02,  1.85it/s]"
     ]
    },
    {
     "name": "stdout",
     "output_type": "stream",
     "text": [
      "[TN,FP, FN, TP] :  [38993, 1067, 1859, 18081]\n",
      "Cost associated with model  models/Model_1.pkl : 48808.2\n"
     ]
    },
    {
     "name": "stderr",
     "output_type": "stream",
     "text": [
      "\r",
      " 33%|████████████████████████████                                                        | 2/6 [00:06<00:15,  3.85s/it]"
     ]
    },
    {
     "name": "stdout",
     "output_type": "stream",
     "text": [
      "[TN,FP, FN, TP] :  [38840, 1220, 1918, 18022]\n",
      "Cost associated with model  models/Model_2.pkl : 49976.4\n"
     ]
    },
    {
     "name": "stderr",
     "output_type": "stream",
     "text": [
      "\r",
      " 50%|██████████████████████████████████████████                                          | 3/6 [01:11<01:35, 31.82s/it]"
     ]
    },
    {
     "name": "stdout",
     "output_type": "stream",
     "text": [
      "[TN,FP, FN, TP] :  [38990, 1070, 1013, 18927]\n",
      "Cost associated with model  models/Model_3.pkl : 32057.4\n"
     ]
    },
    {
     "name": "stderr",
     "output_type": "stream",
     "text": [
      "\r",
      " 67%|████████████████████████████████████████████████████████                            | 4/6 [01:12<00:39, 19.54s/it]"
     ]
    },
    {
     "name": "stdout",
     "output_type": "stream",
     "text": [
      "[TN,FP, FN, TP] :  [39041, 1019, 1015, 18925]\n",
      "Cost associated with model  models/Model_4.pkl : 32097.0\n"
     ]
    },
    {
     "name": "stderr",
     "output_type": "stream",
     "text": [
      "\r",
      " 83%|██████████████████████████████████████████████████████████████████████              | 5/6 [01:13<00:12, 12.67s/it]"
     ]
    },
    {
     "name": "stdout",
     "output_type": "stream",
     "text": [
      "[TN,FP, FN, TP] :  [37920, 2140, 3012, 16928]\n",
      "Cost associated with model  models/Model_5.pkl : 71637.6\n"
     ]
    },
    {
     "name": "stderr",
     "output_type": "stream",
     "text": [
      "100%|████████████████████████████████████████████████████████████████████████████████████| 6/6 [01:29<00:00, 14.90s/it]"
     ]
    },
    {
     "name": "stdout",
     "output_type": "stream",
     "text": [
      "[TN,FP, FN, TP] :  [38818, 1242, 1525, 18415]\n",
      "Cost associated with model  models/Model_6.pkl : 42195.0\n"
     ]
    },
    {
     "name": "stderr",
     "output_type": "stream",
     "text": [
      "\n"
     ]
    }
   ],
   "source": [
    "#cost of predicting 1 to be 0(False Negative) = 20$ per sample - 20*100 = 2000 cents per sample\n",
    "#predicting 0 to be 1(False positive) = 1$ per 5 samples - 20cents per sample \n",
    "#correct predictions cost(True Negative and True positive cost) = 1 per 5 samples - 20 cents per sample\n",
    "\n",
    "#for 6 models cost\n",
    "\n",
    "model_files=[\"models/Model_1.pkl\",\"models/Model_2.pkl\",\"models/Model_3.pkl\",\\\n",
    "                            \"models/Model_4.pkl\",\"models/Model_5.pkl\",\"models/Model_6.pkl\"]\n",
    "\n",
    "\n",
    "for file_name in tqdm(model_files):\n",
    "    in_file = open(file_name,'rb')\n",
    "    model = pickle.load(in_file)\n",
    "    in_file.close()\n",
    "\n",
    "    X_test = X_validation_scaled.iloc[:,:-1]\n",
    "    y_test = X_validation_scaled.iloc[:,-1]\n",
    "    y_pred = model.predict(X_test)\n",
    "    \n",
    "    conf_mat = []\n",
    "    \n",
    "    conf_mat = confusion_matrix(y_test, y_pred) #[TN,FP, FN, TP]\n",
    "    [TN,FP, FN, TP] = conf_mat\n",
    "    print(\"[TN,FP, FN, TP] : \", conf_mat)\n",
    "    print(\"Cost associated with model \", file_name, ':' ,((TN*20)+(FP*20)+(FN*2000)+(TP*20))/100)"
   ]
  },
  {
   "cell_type": "markdown",
   "id": "e0a14fbd",
   "metadata": {},
   "source": [
    "## Task: V\n",
    "Please comment on which of the six models is the best on the cost basis."
   ]
  },
  {
   "cell_type": "code",
   "execution_count": null,
   "id": "64aa50cc",
   "metadata": {},
   "outputs": [],
   "source": [
    "[TN,FP, FN, TP] :  [38993, 1067, 1859, 18081]\n",
    "Cost associated with model  models/Model_1.pkl : 48808.2\n",
    "\n",
    "[TN,FP, FN, TP] :  [38840, 1220, 1918, 18022]\n",
    "Cost associated with model  models/Model_2.pkl : 49976.4\n",
    "\n",
    "[TN,FP, FN, TP] :  [38990, 1070, 1013, 18927]\n",
    "Cost associated with model  models/Model_3.pkl : 32057.4\n",
    "\n",
    "[TN,FP, FN, TP] :  [39041, 1019, 1015, 18925]\n",
    "Cost associated with model  models/Model_4.pkl : 32097.0\n",
    " \n",
    "[TN,FP, FN, TP] :  [37920, 2140, 3012, 16928]\n",
    "Cost associated with model  models/Model_5.pkl : 71637.6\n",
    "\n",
    "[TN,FP, FN, TP] :  [38818, 1242, 1525, 18415]\n",
    "Cost associated with model  models/Model_6.pkl : 42195.0"
   ]
  },
  {
   "cell_type": "markdown",
   "id": "ccf512d2",
   "metadata": {},
   "source": [
    "## Task: W\n",
    "Please comment on which of the six models is the best overall. Explain your answer."
   ]
  },
  {
   "cell_type": "code",
   "execution_count": null,
   "id": "15409d18",
   "metadata": {},
   "outputs": [],
   "source": []
  },
  {
   "cell_type": "code",
   "execution_count": null,
   "id": "821e9cea",
   "metadata": {},
   "outputs": [],
   "source": []
  },
  {
   "cell_type": "markdown",
   "id": "be2434a5",
   "metadata": {},
   "source": [
    "## Task: X\n",
    "Again a followup of Tasks O and P: Please scale the given validation dataset with an alternate scaling technique you can think of and repeat Task P with the modified scaled validation."
   ]
  },
  {
   "cell_type": "code",
   "execution_count": null,
   "id": "d0ff9a77",
   "metadata": {},
   "outputs": [],
   "source": [
    "#x-xmin/(x-max - x_min)\n",
    "#min-max scaling\n",
    "\n",
    "y = validation[8].values\n",
    "\n",
    "#scaling each column apart from the 9th column() \n",
    "column_values = []\n",
    "for i in range(0,8):\n",
    "    min_value = training[i].min() \n",
    "    max_value = training[i].max() \n",
    "    tmp = [(j-min_value)/(max_value - min_value)  for j in validation[i].values]\n",
    "    column_values.append(tmp)\n",
    "    \n",
    "\n",
    "#reshaping list of lists of shape (8,6000) to list of lists of shape(6000,8)\n",
    "reshaping_list = []\n",
    "for i in range(0,len(column_values[0])): #0-6000\n",
    "    tmp_list = []\n",
    "    for j in range(0,len(column_values)): #0-8\n",
    "        #print(column_values[j][i])\n",
    "        tmp_list.append(column_values[j][i])\n",
    "        \n",
    "    reshaping_list.append(tmp_list)\n",
    "        \n",
    "#converting list of lists to numpy array of numpy arrays\n",
    "X=numpy.array([numpy.array(i) for i in reshaping_list])  \n",
    "\n",
    "\n",
    "tup = (X, y)\n",
    "#print(tup)\n",
    "\n",
    "#converting tuple to dataframe    \n",
    "X_validation_scaled = pd.DataFrame(tup[0], columns=['0','1','2','3','4','5','6','7']) \n",
    "X_validation_scaled['8'] = tup[1]\n",
    "X_validation_scaled.info()\n",
    "X_validation_scaled.head()"
   ]
  },
  {
   "cell_type": "code",
   "execution_count": 39,
   "id": "c3adf9c4",
   "metadata": {},
   "outputs": [
    {
     "name": "stderr",
     "output_type": "stream",
     "text": [
      "100%|████████████████████████████████████████████████████████████████████████████████████| 6/6 [01:43<00:00, 17.33s/it]"
     ]
    },
    {
     "name": "stdout",
     "output_type": "stream",
     "text": [
      "           model_name  Accuracy Precision   Recall        F1       MCC  FDR\n",
      "0  models/Model_1.pkl  0.667667        -1  0.00000  0.000000        -1    2\n",
      "1  models/Model_2.pkl  0.667667        -1  0.00000  0.000000        -1    2\n",
      "2  models/Model_3.pkl  0.667667        -1  0.00000  0.000000        -1    2\n",
      "3  models/Model_4.pkl  0.667717       1.0  0.00015  0.000301  0.010023  0.0\n",
      "4  models/Model_5.pkl  0.667667        -1  0.00000  0.000000        -1    2\n",
      "5  models/Model_6.pkl  0.667667        -1  0.00000  0.000000        -1    2\n"
     ]
    },
    {
     "name": "stderr",
     "output_type": "stream",
     "text": [
      "\n"
     ]
    }
   ],
   "source": [
    "#doing task P\n",
    "model_files=[\"models/Model_1.pkl\",\"models/Model_2.pkl\",\"models/Model_3.pkl\",\\\n",
    "                            \"models/Model_4.pkl\",\"models/Model_5.pkl\",\"models/Model_6.pkl\"]\n",
    "\n",
    "result = pd.DataFrame(columns=['model_name','Accuracy','Precision','Recall','F1','MCC','FDR'])\n",
    "\n",
    "for file_name in tqdm(model_files):\n",
    "    in_file = open(file_name,'rb')\n",
    "    model = pickle.load(in_file)\n",
    "    in_file.close()\n",
    "\n",
    "    X_test = X_validation_scaled.iloc[:,:-1]\n",
    "    y_test = X_validation_scaled.iloc[:,-1]\n",
    "    y_pred = model.predict(X_test)\n",
    "    \n",
    "    \n",
    "    conf_mat = []\n",
    "    acc = 0\n",
    "    prec = 0\n",
    "    rec = 0\n",
    "    f1 = 0\n",
    "    mcc = 0\n",
    "    fdr = 0\n",
    "    \n",
    "    conf_mat = confusion_matrix(y_test, y_pred)\n",
    "    acc = accuracy(conf_mat)\n",
    "    prec = precision(conf_mat)\n",
    "    rec = recall(conf_mat)\n",
    "    f1 = F1(conf_mat)\n",
    "    mcc = MCC(conf_mat)\n",
    "    fdr = FDR(conf_mat)\n",
    "    \n",
    "    \n",
    "    result = result.append(pd.Series([file_name,acc,prec,rec,f1,mcc,fdr],index=result.columns),ignore_index=True)\n",
    "    \n",
    "\n",
    "print(result)"
   ]
  },
  {
   "cell_type": "code",
   "execution_count": null,
   "id": "d4ad852a",
   "metadata": {},
   "outputs": [],
   "source": []
  },
  {
   "cell_type": "markdown",
   "id": "bdf41c13",
   "metadata": {},
   "source": [
    "## Task: Y\n",
    "Print the model name with path which is performing superior in terms of accuracy, given the performance result dataframe from “X”"
   ]
  },
  {
   "cell_type": "code",
   "execution_count": 40,
   "id": "b30e3428",
   "metadata": {},
   "outputs": [
    {
     "data": {
      "text/plain": [
       "'models/Model_4.pkl'"
      ]
     },
     "execution_count": 40,
     "metadata": {},
     "output_type": "execute_result"
    }
   ],
   "source": [
    "result[result['Accuracy'] == result['Accuracy'].max()]['model_name'].to_string(index=False)"
   ]
  },
  {
   "cell_type": "markdown",
   "id": "b7f35599",
   "metadata": {},
   "source": [
    "## Task: Z\n",
    "Print the model name with path which is performing the worst in terms of recall, given the performance result dataframe from “X”"
   ]
  },
  {
   "cell_type": "code",
   "execution_count": 41,
   "id": "ea65917d",
   "metadata": {},
   "outputs": [
    {
     "data": {
      "text/plain": [
       "'models/Model_4.pkl'"
      ]
     },
     "execution_count": 41,
     "metadata": {},
     "output_type": "execute_result"
    }
   ],
   "source": [
    "result[result['Recall'] == result['Recall'].max()]['model_name'].to_string(index=False)"
   ]
  },
  {
   "cell_type": "code",
   "execution_count": null,
   "id": "0b084cd5",
   "metadata": {},
   "outputs": [],
   "source": []
  },
  {
   "cell_type": "code",
   "execution_count": null,
   "id": "c1c42a4e",
   "metadata": {},
   "outputs": [],
   "source": [
    "#Comment in T #descriptive\n",
    "#V, W(Which model better overall?)- how???? #descriptive\n",
    "#Recheck task X\n",
    "\n",
    "#4 tasks to be done\n",
    "\n",
    "#Neat Printing"
   ]
  }
 ],
 "metadata": {
  "kernelspec": {
   "display_name": "Python 3 (ipykernel)",
   "language": "python",
   "name": "python3"
  },
  "language_info": {
   "codemirror_mode": {
    "name": "ipython",
    "version": 3
   },
   "file_extension": ".py",
   "mimetype": "text/x-python",
   "name": "python",
   "nbconvert_exporter": "python",
   "pygments_lexer": "ipython3",
   "version": "3.7.9"
  }
 },
 "nbformat": 4,
 "nbformat_minor": 5
}
